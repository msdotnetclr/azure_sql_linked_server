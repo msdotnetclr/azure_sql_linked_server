{
    "metadata": {
        "kernelspec": {
            "name": "SQL",
            "display_name": "SQL",
            "language": "sql"
        },
        "language_info": {
            "name": "sql",
            "version": ""
        }
    },
    "nbformat_minor": 2,
    "nbformat": 4,
    "cells": [
        {
            "cell_type": "code",
            "source": [
                "CREATE USER user1 FOR LOGIN user1 WITH DEFAULT_SCHEMA = [DBO]\r\n",
                "GO\r\n",
                "CREATE USER user2 FOR LOGIN user2 WITH DEFAULT_SCHEMA = [DBO]\r\n",
                "GO"
            ],
            "metadata": {
                "azdata_cell_guid": "4876521d-103d-4906-849f-97ed0f5c2c4c"
            },
            "outputs": [
                {
                    "output_type": "display_data",
                    "data": {
                        "text/html": "Commands completed successfully."
                    },
                    "metadata": {}
                },
                {
                    "output_type": "display_data",
                    "data": {
                        "text/html": "Commands completed successfully."
                    },
                    "metadata": {}
                },
                {
                    "output_type": "display_data",
                    "data": {
                        "text/html": "Total execution time: 00:00:00.170"
                    },
                    "metadata": {}
                }
            ],
            "execution_count": 1
        },
        {
            "cell_type": "code",
            "source": [
                "create table table1(id int primary key, name varchar(50));\r\n",
                "go\r\n",
                "create table table2(id int primary key, name varchar(50));\r\n",
                "go"
            ],
            "metadata": {
                "azdata_cell_guid": "a1451a93-429d-4b7a-aa0c-869c29511c61"
            },
            "outputs": [
                {
                    "output_type": "display_data",
                    "data": {
                        "text/html": "Commands completed successfully."
                    },
                    "metadata": {}
                },
                {
                    "output_type": "display_data",
                    "data": {
                        "text/html": "Commands completed successfully."
                    },
                    "metadata": {}
                },
                {
                    "output_type": "display_data",
                    "data": {
                        "text/html": "Total execution time: 00:00:00.081"
                    },
                    "metadata": {}
                }
            ],
            "execution_count": 2
        },
        {
            "cell_type": "code",
            "source": [
                "insert into table1 (id, name) values(11, 'user11'), (21, 'user21')"
            ],
            "metadata": {
                "azdata_cell_guid": "7044baec-47e1-4f9d-b372-be064c0d683a"
            },
            "outputs": [
                {
                    "output_type": "display_data",
                    "data": {
                        "text/html": "(2 rows affected)"
                    },
                    "metadata": {}
                },
                {
                    "output_type": "display_data",
                    "data": {
                        "text/html": "Total execution time: 00:00:00.056"
                    },
                    "metadata": {}
                }
            ],
            "execution_count": 4
        },
        {
            "cell_type": "code",
            "source": [
                "insert into table2 (id, name) values(12, 'user12'), (22, 'user22')"
            ],
            "metadata": {
                "azdata_cell_guid": "89fa3e59-e8b5-49c4-8b6f-1a7e79c1d922"
            },
            "outputs": [
                {
                    "output_type": "display_data",
                    "data": {
                        "text/html": "(2 rows affected)"
                    },
                    "metadata": {}
                },
                {
                    "output_type": "display_data",
                    "data": {
                        "text/html": "Total execution time: 00:00:00.015"
                    },
                    "metadata": {}
                }
            ],
            "execution_count": 5
        },
        {
            "cell_type": "code",
            "source": [
                "grant select on dbo.table1 to user1;"
            ],
            "metadata": {
                "azdata_cell_guid": "2735cde0-03c1-4cd7-85cb-6fd1d457ef32"
            },
            "outputs": [
                {
                    "output_type": "display_data",
                    "data": {
                        "text/html": "Commands completed successfully."
                    },
                    "metadata": {}
                },
                {
                    "output_type": "display_data",
                    "data": {
                        "text/html": "Total execution time: 00:00:00.033"
                    },
                    "metadata": {}
                }
            ],
            "execution_count": 6
        },
        {
            "cell_type": "code",
            "source": [
                "grant select on dbo.table2 to user2;"
            ],
            "metadata": {
                "azdata_cell_guid": "78726561-6237-4b21-bb5d-e84d0e91ed36"
            },
            "outputs": [
                {
                    "output_type": "display_data",
                    "data": {
                        "text/html": "Commands completed successfully."
                    },
                    "metadata": {}
                },
                {
                    "output_type": "display_data",
                    "data": {
                        "text/html": "Total execution time: 00:00:00.013"
                    },
                    "metadata": {}
                }
            ],
            "execution_count": 7
        }
    ]
}