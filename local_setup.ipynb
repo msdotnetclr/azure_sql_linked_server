{
    "metadata": {
        "kernelspec": {
            "name": "SQL",
            "display_name": "SQL",
            "language": "sql"
        },
        "language_info": {
            "name": "sql",
            "version": ""
        }
    },
    "nbformat_minor": 2,
    "nbformat": 4,
    "cells": [
        {
            "cell_type": "code",
            "source": [
                "create database mydatabase;"
            ],
            "metadata": {
                "azdata_cell_guid": "4ad9d6e0-503b-4103-93c8-f6712774a50c"
            },
            "outputs": [
                {
                    "output_type": "display_data",
                    "data": {
                        "text/html": "Commands completed successfully."
                    },
                    "metadata": {}
                },
                {
                    "output_type": "display_data",
                    "data": {
                        "text/html": "Total execution time: 00:00:00.197"
                    },
                    "metadata": {}
                }
            ],
            "execution_count": 1
        },
        {
            "cell_type": "code",
            "source": [
                "USE master;\r\n",
                "GO\r\n",
                "CREATE LOGIN [user1]\r\n",
                "WITH PASSWORD = 'MyPassword1',\r\n",
                "DEFAULT_DATABASE = mydatabase;\r\n",
                "GO\r\n",
                "CREATE LOGIN [user2]\r\n",
                "WITH PASSWORD = 'MyPassword2',\r\n",
                "DEFAULT_DATABASE = mydatabase;\r\n",
                "GO"
            ],
            "metadata": {
                "azdata_cell_guid": "2d366bd6-0ee9-4e71-8c44-24473e2dd9ef"
            },
            "outputs": [
                {
                    "output_type": "display_data",
                    "data": {
                        "text/html": "Commands completed successfully."
                    },
                    "metadata": {}
                },
                {
                    "output_type": "display_data",
                    "data": {
                        "text/html": "Total execution time: 00:00:00.002"
                    },
                    "metadata": {}
                }
            ],
            "execution_count": 6
        },
        {
            "cell_type": "code",
            "source": [
                "USE master;\r\n",
                "GO\r\n",
                "ALTER LOGIN user1 ENABLE;\r\n",
                "GO\r\n",
                "ALTER LOGIN user2 ENABLE;\r\n",
                "GO"
            ],
            "metadata": {
                "azdata_cell_guid": "e3da0dd1-daa0-41dc-9857-c7ad95ba3b67"
            },
            "outputs": [
                {
                    "output_type": "display_data",
                    "data": {
                        "text/html": "Commands completed successfully."
                    },
                    "metadata": {}
                },
                {
                    "output_type": "display_data",
                    "data": {
                        "text/html": "Total execution time: 00:00:00.001"
                    },
                    "metadata": {}
                }
            ],
            "execution_count": 11
        },
        {
            "cell_type": "code",
            "source": [
                "USE mydatabase;\r\n",
                "GO\r\n",
                "CREATE USER user1 FOR LOGIN user1 WITH DEFAULT_SCHEMA = [DBO]\r\n",
                "GO\r\n",
                "CREATE USER user2 FOR LOGIN user2 WITH DEFAULT_SCHEMA = [DBO]\r\n",
                "GO"
            ],
            "metadata": {
                "azdata_cell_guid": "2726ffc3-66ee-4b5e-8807-f8e0d8459fa9"
            },
            "outputs": [
                {
                    "output_type": "display_data",
                    "data": {
                        "text/html": "Commands completed successfully."
                    },
                    "metadata": {}
                },
                {
                    "output_type": "display_data",
                    "data": {
                        "text/html": "Commands completed successfully."
                    },
                    "metadata": {}
                },
                {
                    "output_type": "display_data",
                    "data": {
                        "text/html": "Commands completed successfully."
                    },
                    "metadata": {}
                },
                {
                    "output_type": "display_data",
                    "data": {
                        "text/html": "Total execution time: 00:00:00.001"
                    },
                    "metadata": {}
                }
            ],
            "execution_count": 12
        },
        {
            "cell_type": "code",
            "source": [
                "USE [master]\r\n",
                "GO\r\n",
                "EXEC master.dbo.sp_addlinkedserver @server = N'AZUREPLAYGROUND', @srvproduct=N'', @provider=N'SQLOLEDB', @datasrc=N'jmzresearchplayground.database.windows.net', @catalog=N'playground'\r\n",
                "\r\n",
                "GO\r\n",
                "EXEC master.dbo.sp_serveroption @server=N'AZUREPLAYGROUND', @optname=N'collation compatible', @optvalue=N'false'\r\n",
                "GO\r\n",
                "EXEC master.dbo.sp_serveroption @server=N'AZUREPLAYGROUND', @optname=N'data access', @optvalue=N'true'\r\n",
                "GO\r\n",
                "EXEC master.dbo.sp_serveroption @server=N'AZUREPLAYGROUND', @optname=N'dist', @optvalue=N'false'\r\n",
                "GO\r\n",
                "EXEC master.dbo.sp_serveroption @server=N'AZUREPLAYGROUND', @optname=N'pub', @optvalue=N'false'\r\n",
                "GO\r\n",
                "EXEC master.dbo.sp_serveroption @server=N'AZUREPLAYGROUND', @optname=N'rpc', @optvalue=N'true'\r\n",
                "GO\r\n",
                "EXEC master.dbo.sp_serveroption @server=N'AZUREPLAYGROUND', @optname=N'rpc out', @optvalue=N'true'\r\n",
                "GO\r\n",
                "EXEC master.dbo.sp_serveroption @server=N'AZUREPLAYGROUND', @optname=N'sub', @optvalue=N'false'\r\n",
                "GO\r\n",
                "EXEC master.dbo.sp_serveroption @server=N'AZUREPLAYGROUND', @optname=N'connect timeout', @optvalue=N'0'\r\n",
                "GO\r\n",
                "EXEC master.dbo.sp_serveroption @server=N'AZUREPLAYGROUND', @optname=N'collation name', @optvalue=null\r\n",
                "GO\r\n",
                "EXEC master.dbo.sp_serveroption @server=N'AZUREPLAYGROUND', @optname=N'lazy schema validation', @optvalue=N'false'\r\n",
                "GO\r\n",
                "EXEC master.dbo.sp_serveroption @server=N'AZUREPLAYGROUND', @optname=N'query timeout', @optvalue=N'0'\r\n",
                "GO\r\n",
                "EXEC master.dbo.sp_serveroption @server=N'AZUREPLAYGROUND', @optname=N'use remote collation', @optvalue=N'true'\r\n",
                "GO\r\n",
                "EXEC master.dbo.sp_serveroption @server=N'AZUREPLAYGROUND', @optname=N'remote proc transaction promotion', @optvalue=N'true'\r\n",
                "GO\r\n",
                "USE [master]\r\n",
                "GO\r\n",
                "EXEC master.dbo.sp_addlinkedsrvlogin @rmtsrvname = N'AZUREPLAYGROUND', @locallogin = N'user1', @useself = N'False', @rmtuser = N'user1', @rmtpassword = N'MyPassword1'\r\n",
                "GO\r\n",
                "USE [master]\r\n",
                "GO\r\n",
                "EXEC master.dbo.sp_addlinkedsrvlogin @rmtsrvname = N'AZUREPLAYGROUND', @locallogin = N'user2', @useself = N'False', @rmtuser = N'user2', @rmtpassword = N'MyPassword2'\r\n",
                "GO\r\n",
                ""
            ],
            "metadata": {
                "azdata_cell_guid": "5954e857-7f29-48ac-be25-ded151bbfa9b"
            },
            "outputs": [],
            "execution_count": null
        }
    ]
}