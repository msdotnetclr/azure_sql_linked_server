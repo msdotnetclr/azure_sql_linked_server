{
    "metadata": {
        "kernelspec": {
            "name": "SQL",
            "display_name": "SQL",
            "language": "sql"
        },
        "language_info": {
            "name": "sql",
            "version": ""
        }
    },
    "nbformat_minor": 2,
    "nbformat": 4,
    "cells": [
        {
            "cell_type": "code",
            "source": [
                "CREATE LOGIN [user1]\r\n",
                "WITH PASSWORD = 'MyPassword1'"
            ],
            "metadata": {
                "azdata_cell_guid": "3885ebe5-b724-4306-87a1-6d3c39203e79"
            },
            "outputs": [
                {
                    "output_type": "display_data",
                    "data": {
                        "text/html": "Commands completed successfully."
                    },
                    "metadata": {}
                },
                {
                    "output_type": "display_data",
                    "data": {
                        "text/html": "Total execution time: 00:00:00.015"
                    },
                    "metadata": {}
                }
            ],
            "execution_count": 1
        },
        {
            "cell_type": "code",
            "source": [
                "CREATE LOGIN [user2]\r\n",
                "WITH PASSWORD = 'MyPassword2'"
            ],
            "metadata": {
                "azdata_cell_guid": "de49f133-a97f-4ab9-a507-f33f9855c125"
            },
            "outputs": [
                {
                    "output_type": "display_data",
                    "data": {
                        "text/html": "Commands completed successfully."
                    },
                    "metadata": {}
                },
                {
                    "output_type": "display_data",
                    "data": {
                        "text/html": "Total execution time: 00:00:00.010"
                    },
                    "metadata": {}
                }
            ],
            "execution_count": 2
        },
        {
            "cell_type": "code",
            "source": [
                "ALTER LOGIN user1 ENABLE;\r\n",
                "ALTER LOGIN user2 ENABLE;"
            ],
            "metadata": {
                "azdata_cell_guid": "c554ee66-7ee4-420d-8373-09528b48d51e"
            },
            "outputs": [
                {
                    "output_type": "display_data",
                    "data": {
                        "text/html": "Commands completed successfully."
                    },
                    "metadata": {}
                },
                {
                    "output_type": "display_data",
                    "data": {
                        "text/html": "Total execution time: 00:00:00.016"
                    },
                    "metadata": {}
                }
            ],
            "execution_count": 4
        }
    ]
}